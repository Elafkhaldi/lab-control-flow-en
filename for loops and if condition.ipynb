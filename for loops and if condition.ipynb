{
 "cells": [
  {
   "cell_type": "code",
   "execution_count": 1,
   "id": "1ce886b2-ef7e-44e5-b226-5d11fdebe538",
   "metadata": {},
   "outputs": [
    {
     "name": "stdout",
     "output_type": "stream",
     "text": [
      "['PLAY', 'FILLING', 'BAR', 'THEATRE', 'EASYGOING', 'DATE', 'LEAD', 'THAT', 'STORY', 'ISLAND']\n"
     ]
    }
   ],
   "source": [
    "words = ['play', 'filling', 'bar', 'theatre', 'easygoing', 'date', 'lead', 'that', 'story', 'island']\n",
    "uppercase_words = [word.upper() for word in words] \n",
    "print(uppercase_words)"
   ]
  },
  {
   "cell_type": "code",
   "execution_count": 3,
   "id": "a7ca7443-d89d-45dc-a002-35e3f0453268",
   "metadata": {},
   "outputs": [
    {
     "name": "stdout",
     "output_type": "stream",
     "text": [
      "['filling', 'theatre', 'easygoing', 'story', 'island']\n"
     ]
    }
   ],
   "source": [
    "long_words = [word for word in words if len(word) >= 5] \n",
    "print(long_words)"
   ]
  },
  {
   "cell_type": "code",
   "execution_count": 5,
   "id": "87c76cdd-5f4e-41f6-9e76-6b2a3d2567fb",
   "metadata": {},
   "outputs": [
    {
     "name": "stdout",
     "output_type": "stream",
     "text": [
      "theatre\n"
     ]
    }
   ],
   "source": [
    "first_t_word = next((word for word in words if word.startswith('t')), None) \n",
    "print(first_t_word)\n"
   ]
  },
  {
   "cell_type": "code",
   "execution_count": 9,
   "id": "9e5b6b3e-24ea-4390-8d5e-332d6d53c7fa",
   "metadata": {},
   "outputs": [
    {
     "name": "stdout",
     "output_type": "stream",
     "text": [
      "[1, 4, 9, 16, 25, 36, 49, 64, 81, 100]\n"
     ]
    }
   ],
   "source": [
    "squares = [num ** 2 for num in range(1, 11)] \n",
    "print(squares)"
   ]
  },
  {
   "cell_type": "code",
   "execution_count": 11,
   "id": "619c4d71-baae-431e-bbfb-8cace994668b",
   "metadata": {},
   "outputs": [
    {
     "name": "stdout",
     "output_type": "stream",
     "text": [
      "[1, 9, 25, 49, 81]\n"
     ]
    }
   ],
   "source": [
    "odd_squares = [num ** 2 for num in range(1, 11) if num % 2 != 0] \n",
    "print(odd_squares)"
   ]
  },
  {
   "cell_type": "code",
   "execution_count": 13,
   "id": "32637e91-7d30-4e15-ba9e-796cc4c0190b",
   "metadata": {},
   "outputs": [
    {
     "name": "stdout",
     "output_type": "stream",
     "text": [
      "[64, 256, 576, 1024, 1600, 2304, 3136, 4096, 5184, 6400, 7744, 9216, 10816, 12544, 14400, 16384, 18496, 20736, 23104, 25600, 28224, 30976, 33856, 36864, 40000, 43264, 46656, 50176, 53824, 57600, 61504, 65536, 69696, 73984, 78400, 82944, 87616, 92416, 97344, 102400, 107584, 112896, 118336, 123904, 129600, 135424, 141376, 147456, 153664, 160000, 166464, 173056, 179776, 186624, 193600, 200704, 207936, 215296, 222784, 230400, 238144, 246016, 254016, 262144, 270400, 278784, 287296, 295936, 304704, 313600, 322624, 331776, 341056, 350464, 360000, 369664, 379456, 389376, 399424, 409600, 419904, 430336, 440896, 451584, 462400, 473344, 484416, 495616, 506944, 518400, 529984, 541696, 553536, 565504, 577600, 589824, 602176, 614656, 627264, 640000, 652864, 665856, 678976, 692224, 705600, 719104, 732736, 746496, 760384, 774400, 788544, 802816, 817216, 831744, 846400, 861184, 876096, 891136, 906304, 921600, 937024, 952576, 968256, 984064]\n"
     ]
    }
   ],
   "source": [
    "multiples_of_8_squares = [num ** 2 for num in range(8, 1000, 8)] \n",
    "print(multiples_of_8_squares)"
   ]
  },
  {
   "cell_type": "code",
   "execution_count": 19,
   "id": "6e000bbf-5321-47f7-abdb-8c71927fd55c",
   "metadata": {},
   "outputs": [
    {
     "name": "stdout",
     "output_type": "stream",
     "text": [
      "Number of people: 5\n"
     ]
    }
   ],
   "source": [
    "people = [ {\"name\": \"Juan\", \"age\": 34, \"n_kids\": 2}, {\"name\": \"Pepe\", \"age\": 27, \"n_kids\": 0}, {\"name\": \"Sonia\", \"age\": 41, \"n_kids\": 1}, {\"name\": \"Lucia\", \"age\": 22, \"n_kids\": 2}, {\"name\": \"Leo\", \"age\": 55, \"n_kids\": 5}, ] \n",
    "people_count = len(people) \n",
    "print(\"Number of people:\", people_count)"
   ]
  },
  {
   "cell_type": "code",
   "execution_count": 21,
   "id": "78b8353f-ae2a-41e2-9fdb-95ed8e8d62db",
   "metadata": {},
   "outputs": [
    {
     "name": "stdout",
     "output_type": "stream",
     "text": [
      "People with kids: 4\n"
     ]
    }
   ],
   "source": [
    "people_with_kids = sum(1 for person in people if person[\"n_kids\"] > 0) \n",
    "print(\"People with kids:\", people_with_kids)"
   ]
  },
  {
   "cell_type": "code",
   "execution_count": 23,
   "id": "e40f9cef-5541-4d3d-afd1-5468d30c3dae",
   "metadata": {},
   "outputs": [
    {
     "name": "stdout",
     "output_type": "stream",
     "text": [
      "Total number of kids: 10\n"
     ]
    }
   ],
   "source": [
    "total_kids = sum(person[\"n_kids\"] for person in people) \n",
    "print(\"Total number of kids:\", total_kids)"
   ]
  },
  {
   "cell_type": "code",
   "execution_count": 25,
   "id": "24a48cd8-716f-450a-883e-31bffa87ff0b",
   "metadata": {},
   "outputs": [
    {
     "name": "stdout",
     "output_type": "stream",
     "text": [
      "[{'name': 'Juan', 'age': 34, 'n_kids': 2}, {'name': 'Pepe', 'age': 27, 'n_kids': 0}, {'name': 'Sonia', 'age': 41, 'n_kids': 2}, {'name': 'Lucia', 'age': 22, 'n_kids': 3}, {'name': 'Leo', 'age': 55, 'n_kids': 5}]\n"
     ]
    }
   ],
   "source": [
    "updated_people = [ \n",
    "    {**person, \"n_kids\": person[\"n_kids\"] + 1} if person[\"name\"].endswith(\"a\") else person \n",
    "    for person in people \n",
    "] \n",
    "print(updated_people)\n"
   ]
  },
  {
   "cell_type": "code",
   "execution_count": null,
   "id": "39045903-5dbb-427e-baa5-dce867aa7dd6",
   "metadata": {},
   "outputs": [],
   "source": []
  }
 ],
 "metadata": {
  "kernelspec": {
   "display_name": "Python [conda env:base] *",
   "language": "python",
   "name": "conda-base-py"
  },
  "language_info": {
   "codemirror_mode": {
    "name": "ipython",
    "version": 3
   },
   "file_extension": ".py",
   "mimetype": "text/x-python",
   "name": "python",
   "nbconvert_exporter": "python",
   "pygments_lexer": "ipython3",
   "version": "3.12.7"
  }
 },
 "nbformat": 4,
 "nbformat_minor": 5
}
